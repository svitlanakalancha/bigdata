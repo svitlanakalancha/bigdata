{
 "cells": [
  {
   "cell_type": "code",
   "execution_count": null,
   "metadata": {
    "collapsed": true
   },
   "outputs": [],
   "source": [
    "%load_ext autoreload\n",
    "%autoreload 2"
   ]
  },
  {
   "cell_type": "code",
   "execution_count": 85,
   "metadata": {},
   "outputs": [
    {
     "ename": "ModuleNotFoundError",
     "evalue": "No module named 'src'",
     "output_type": "error",
     "traceback": [
      "\u001b[1;31m---------------------------------------------------------------------------\u001b[0m",
      "\u001b[1;31mModuleNotFoundError\u001b[0m                       Traceback (most recent call last)",
      "\u001b[1;32m<ipython-input-85-9c0a1dc7bd44>\u001b[0m in \u001b[0;36m<module>\u001b[1;34m()\u001b[0m\n\u001b[0;32m      3\u001b[0m \u001b[1;32mimport\u001b[0m \u001b[0mmatplotlib\u001b[0m\u001b[1;33m.\u001b[0m\u001b[0mpyplot\u001b[0m \u001b[1;32mas\u001b[0m \u001b[0mplt\u001b[0m\u001b[1;33m\u001b[0m\u001b[0m\n\u001b[0;32m      4\u001b[0m \u001b[1;32mfrom\u001b[0m \u001b[0mscipy\u001b[0m\u001b[1;33m.\u001b[0m\u001b[0mspatial\u001b[0m\u001b[1;33m.\u001b[0m\u001b[0mdistance\u001b[0m \u001b[1;32mimport\u001b[0m \u001b[0mcdist\u001b[0m\u001b[1;33m\u001b[0m\u001b[0m\n\u001b[1;32m----> 5\u001b[1;33m \u001b[1;32mfrom\u001b[0m \u001b[0msrc\u001b[0m\u001b[1;33m.\u001b[0m\u001b[0mvisualization\u001b[0m \u001b[1;32mimport\u001b[0m \u001b[0mvisualize_clusters\u001b[0m\u001b[1;33m\u001b[0m\u001b[0m\n\u001b[0m",
      "\u001b[1;31mModuleNotFoundError\u001b[0m: No module named 'src'"
     ]
    }
   ],
   "source": [
    "import numpy as np\n",
    "import pandas as pd\n",
    "import matplotlib.pyplot as plt\n",
    "from scipy.spatial.distance import cdist\n",
    "#from src.visualization import visualize_clusters"
   ]
  },
  {
   "cell_type": "markdown",
   "metadata": {},
   "source": [
    "In this week's exercise we will be using the clustering methods k-Means and DBSCAN. First, the simplicity of implementing k-Means is shown, then different initialization techniques are compared and finally DBSCAN is applied on the data."
   ]
  },
  {
   "cell_type": "markdown",
   "metadata": {},
   "source": [
    "\n",
    "## 1 The k-Means algorithm\n",
    "\n",
    "To get a grip on k-Means, you might implement two parts of the algorithm:\n",
    "\n",
    "**_update_clusters**\n",
    "- As parameters, the function gets a DataFrame ($n \\times d$) containing the dataset and a DataFrame/matrix ($k \\times d$) containing the $k$ means\n",
    "- It returns an array of length $n$, containing a cluster label for each sample (row) of the data set \n",
    "\n",
    "**_update_means**\n",
    "- This gets the DataFrame ($n \\times d$) containing the dataset as well as an array of length $n$ containing the cluster label of each sample as parameters\n",
    "- It returns a DataFrame/matrix of size $k \\times d$ containing $k$ updated means \n",
    "\n",
    "<br>\n",
    "Some Hints:\n",
    "- https://docs.scipy.org/doc/scipy-0.19.0/reference/generated/scipy.spatial.distance.cdist.html\n",
    "- https://docs.scipy.org/doc/numpy-1.13.0/reference/generated/numpy.argmin.html\n",
    "- https://pandas.pydata.org/pandas-docs/stable/generated/pandas.DataFrame.groupby.html\n",
    "\n",
    "Feel free to add import statements! "
   ]
  },
  {
   "cell_type": "code",
   "execution_count": 87,
   "metadata": {},
   "outputs": [
    {
     "name": "stdout",
     "output_type": "stream",
     "text": [
      "                    Name  Age          Nationality  Overall  Potential  \\\n",
      "0      Cristiano Ronaldo   32             Portugal       94         94   \n",
      "1               L. Messi   30            Argentina       93         93   \n",
      "2                 Neymar   25               Brazil       92         94   \n",
      "3              L. Suárez   30              Uruguay       92         92   \n",
      "4               M. Neuer   31              Germany       92         92   \n",
      "5         R. Lewandowski   28               Poland       91         91   \n",
      "6                 De Gea   26                Spain       90         92   \n",
      "7              E. Hazard   26              Belgium       90         91   \n",
      "8               T. Kroos   27              Germany       90         90   \n",
      "9             G. Higuaín   29            Argentina       90         90   \n",
      "10          Sergio Ramos   31                Spain       90         90   \n",
      "11          K. De Bruyne   26              Belgium       89         92   \n",
      "12           T. Courtois   25              Belgium       89         92   \n",
      "13            A. Sánchez   28                Chile       89         89   \n",
      "14             L. Modrić   31              Croatia       89         89   \n",
      "15               G. Bale   27                Wales       89         89   \n",
      "16             S. Agüero   29            Argentina       89         89   \n",
      "17          G. Chiellini   32                Italy       89         89   \n",
      "18             G. Buffon   39                Italy       89         89   \n",
      "19             P. Dybala   23            Argentina       88         93   \n",
      "20              J. Oblak   24             Slovenia       88         93   \n",
      "21          A. Griezmann   26               France       88         91   \n",
      "22                Thiago   26                Spain       88         90   \n",
      "23         P. Aubameyang   28                Gabon       88         88   \n",
      "24            L. Bonucci   30                Italy       88         88   \n",
      "25            J. Boateng   28              Germany       88         88   \n",
      "26              D. Godín   31              Uruguay       88         88   \n",
      "27            M. Hummels   28              Germany       88         88   \n",
      "28               M. Özil   28              Germany       88         88   \n",
      "29             H. Lloris   30               France       88         88   \n",
      "...                  ...  ...                  ...      ...        ...   \n",
      "17046           M. Hurst   21             Scotland       48         58   \n",
      "17047       A. Osmanoski   17        FYR Macedonia       48         68   \n",
      "17048          K. Cotter   18              England       48         67   \n",
      "17049        T. Robinson   19              England       48         64   \n",
      "17050          R. Hughes   18             Scotland       48         63   \n",
      "17051        Z. Mohammed   17              England       48         64   \n",
      "17052         D. Peppard   17  Republic of Ireland       47         61   \n",
      "17053          C. Rogers   17  Republic of Ireland       47         59   \n",
      "17054      N. McLaughlin   18             Scotland       47         64   \n",
      "17055           L. Kiely   18  Republic of Ireland       47         69   \n",
      "17056   J. Latibeaudiere   17              England       47         73   \n",
      "17057           J. Payne   18              England       47         63   \n",
      "17058          G. Manley   19  Republic of Ireland       47         58   \n",
      "17059        P. Phillips   18  Republic of Ireland       47         67   \n",
      "17060           A. Byrne   18  Republic of Ireland       47         61   \n",
      "17061        K. Fujikawa   18                Japan       47         67   \n",
      "17062            K. Egan   19              England       47         67   \n",
      "17063      T. Brownsword   17              England       47         68   \n",
      "17064         F. Prohart   18              Austria       47         67   \n",
      "17065         A. Kilgour   19              England       47         56   \n",
      "17066           R. White   18              England       47         65   \n",
      "17067          A. Conway   19  Republic of Ireland       47         63   \n",
      "17068          T. Sawyer   18              England       46         58   \n",
      "17069          J. Keeble   18              England       46         56   \n",
      "17070       T. Käßemodel   28              Germany       46         46   \n",
      "17071          A. Kelsey   17              England       46         63   \n",
      "17072      B. Richardson   47              England       46         46   \n",
      "17073           J. Young   17             Scotland       46         61   \n",
      "17074       J. Lundstram   18              England       46         64   \n",
      "17075          L. Sackey   18                Ghana       46         64   \n",
      "\n",
      "                         Club  Special  Acceleration  Aggression  Agility  \\\n",
      "0              Real Madrid CF     2228            89          63       89   \n",
      "1                FC Barcelona     2154            92          48       90   \n",
      "2         Paris Saint-Germain     2100            94          56       96   \n",
      "3                FC Barcelona     2291            88          78       86   \n",
      "4            FC Bayern Munich     1493            58          29       52   \n",
      "5            FC Bayern Munich     2143            79          80       78   \n",
      "6           Manchester United     1458            57          38       60   \n",
      "7                     Chelsea     2096            93          54       93   \n",
      "8              Real Madrid CF     2165            60          60       71   \n",
      "9                    Juventus     1961            78          50       75   \n",
      "10             Real Madrid CF     2153            75          84       79   \n",
      "11            Manchester City     2162            76          68       80   \n",
      "12                    Chelsea     1282            46          23       61   \n",
      "13                    Arsenal     2181            88          80       90   \n",
      "14             Real Madrid CF     2228            75          62       93   \n",
      "15             Real Madrid CF     2263            93          65       77   \n",
      "16            Manchester City     2074            90          63       86   \n",
      "17                   Juventus     1867            68          92       59   \n",
      "18                   Juventus     1335            49          38       55   \n",
      "19                   Juventus     2063            88          48       91   \n",
      "20            Atlético Madrid     1290            43          34       67   \n",
      "21            Atlético Madrid     2104            87          69       90   \n",
      "22           FC Bayern Munich     2185            77          57       90   \n",
      "23          Borussia Dortmund     2078            95          43       77   \n",
      "24                      Milan     1995            62          82       60   \n",
      "25           FC Bayern Munich     1989            72          82       58   \n",
      "26            Atlético Madrid     1930            62          86       63   \n",
      "27           FC Bayern Munich     2038            62          66       64   \n",
      "28                    Arsenal     1927            75          48       83   \n",
      "29          Tottenham Hotspur     1318            65          31       55   \n",
      "...                       ...      ...           ...         ...      ...   \n",
      "17046        St. Johnstone FC      991            40          20       45   \n",
      "17047      SpVgg Unterhaching     1377            68          53       63   \n",
      "17048              Luton Town     1329            67          53       64   \n",
      "17049           Bradford City     1257            69          26       65   \n",
      "17050  Hamilton Academical FC     1330            59          57       62   \n",
      "17051      Accrington Stanley     1167            62          41       43   \n",
      "17052             Bohemian FC     1199            56          59       52   \n",
      "17053          Bray Wanderers     1189            60          41       46   \n",
      "17054    Partick Thistle F.C.     1330            69          52       54   \n",
      "17055         Shamrock Rovers     1290            43          47       47   \n",
      "17056         Manchester City     1132            57          45       44   \n",
      "17057                  Barnet     1219            65          43       64   \n",
      "17058               Cork City     1298            57          59       58   \n",
      "17059               Cork City     1297            56          51       51   \n",
      "17060               Cork City     1346            58          54       59   \n",
      "17061            Júbilo Iwata     1317            59          55       50   \n",
      "17062             Exeter City     1225            63          51       57   \n",
      "17063               Morecambe     1143            55          47       49   \n",
      "17064          Wolfsberger AC     1238            62          27       69   \n",
      "17065          Bristol Rovers     1208            52          56       60   \n",
      "17066        Bolton Wanderers     1265            51          33       51   \n",
      "17067           Galway United     1314            60          44       47   \n",
      "17068            Grimsby Town     1267            65          43       57   \n",
      "17069            Grimsby Town     1105            66          40       45   \n",
      "17070       FC Erzgebirge Aue     1174            25          52       40   \n",
      "17071       Scunthorpe United      755            24          16       38   \n",
      "17072       Wycombe Wanderers      832            25          44       35   \n",
      "17073            Swindon Town     1194            66          26       60   \n",
      "17074         Crewe Alexandra     1302            57          46       58   \n",
      "17075       Scunthorpe United     1031            48          52       49   \n",
      "\n",
      "       ...    Sliding tackle  Sprint speed  Stamina  Standing tackle  \\\n",
      "0      ...                23            91       92               31   \n",
      "1      ...                26            87       73               28   \n",
      "2      ...                33            90       78               24   \n",
      "3      ...                38            77       89               45   \n",
      "4      ...                11            61       44               10   \n",
      "5      ...                19            83       79               42   \n",
      "6      ...                13            58       40               21   \n",
      "7      ...                22            87       79               27   \n",
      "8      ...                69            52       77               82   \n",
      "9      ...                18            80       72               22   \n",
      "10     ...                91            77       84               89   \n",
      "11     ...                40            75       87               51   \n",
      "12     ...                16            52       38               18   \n",
      "13     ...                35            84       85               39   \n",
      "14     ...                73            71       82               80   \n",
      "15     ...                52            95       76               55   \n",
      "16     ...                12            84       74               20   \n",
      "17     ...                90            78       68               92   \n",
      "18     ...                11            43       39               11   \n",
      "19     ...                20            84       83               20   \n",
      "20     ...                18            60       41               12   \n",
      "21     ...                11            86       76               22   \n",
      "22     ...                62            68       75               64   \n",
      "23     ...                36            96       79               25   \n",
      "24     ...                88            72       73               88   \n",
      "25     ...                90            78       74               91   \n",
      "26     ...                89            67       67               86   \n",
      "27     ...                90            65       66               92   \n",
      "28     ...                19            68       69               16   \n",
      "29     ...                18            63       41               10   \n",
      "...    ...               ...           ...      ...              ...   \n",
      "17046  ...                16            42       33               15   \n",
      "17047  ...                44            68       61               36   \n",
      "17048  ...                45            65       60               39   \n",
      "17049  ...                25            57       48               25   \n",
      "17050  ...                50            49       40               44   \n",
      "17051  ...                47            55       57               52   \n",
      "17052  ...                44            52       51               46   \n",
      "17053  ...                46            56       48               48   \n",
      "17054  ...                31            68       64               33   \n",
      "17055  ...                47            62       38               38   \n",
      "17056  ...                47            54       62               52   \n",
      "17057  ...                48            63       62               46   \n",
      "17058  ...                47            49       42               45   \n",
      "17059  ...                53            51       44               44   \n",
      "17060  ...                48            64       59               44   \n",
      "17061  ...                54            58       37               44   \n",
      "17062  ...                46            54       60               46   \n",
      "17063  ...                54            63       59               51   \n",
      "17064  ...                18            65       55               20   \n",
      "17065  ...                43            55       61               46   \n",
      "17066  ...                15            56       53               13   \n",
      "17067  ...                43            58       52               48   \n",
      "17068  ...                41            64       55               39   \n",
      "17069  ...                49            60       52               52   \n",
      "17070  ...                38            22       30               36   \n",
      "17071  ...                10            32       28               11   \n",
      "17072  ...                13            25       32               12   \n",
      "17073  ...                14            51       33               17   \n",
      "17074  ...                47            58       49               48   \n",
      "17075  ...                43            49       55               44   \n",
      "\n",
      "       Strength  Vision  Volleys  Value Euro  Wage Euro  Clust  \n",
      "0            80      85       88    95500000     565000      2  \n",
      "1            59      90       85   105000000     565000      2  \n",
      "2            53      80       83   123000000     280000      2  \n",
      "3            80      84       88    97000000     510000      2  \n",
      "4            83      70       11    61000000     230000      1  \n",
      "5            84      78       87    92000000     355000      2  \n",
      "6            64      68       13    64500000     215000      1  \n",
      "7            65      86       79    90500000     295000      2  \n",
      "8            74      88       82    79000000     340000      0  \n",
      "9            85      70       88    77000000     275000      2  \n",
      "10           81      63       66    52000000     310000      0  \n",
      "11           73      90       82    83000000     285000      0  \n",
      "12           70      44       12    59000000     190000      1  \n",
      "13           72      83       83    67500000     265000      2  \n",
      "14           58      90       74    57000000     340000      0  \n",
      "15           80      79       76    69500000     370000      0  \n",
      "16           74      83       85    66500000     325000      2  \n",
      "17           91      50       45    38000000     225000      0  \n",
      "18           69      50       17     4500000     110000      1  \n",
      "19           65      84       88    79000000     215000      2  \n",
      "20           78      55       13    57000000      82000      1  \n",
      "21           61      76       87    75000000     150000      2  \n",
      "22           59      86       90    70500000     225000      0  \n",
      "23           77      77       86    61000000     165000      2  \n",
      "24           85      74       58    44000000     210000      0  \n",
      "25           91      76       53    48000000     215000      0  \n",
      "26           80      52       47    40000000     125000      0  \n",
      "27           85      79       60    48000000     215000      0  \n",
      "28           57      92       77    60000000     265000      2  \n",
      "29           43      30       11    38000000     165000      1  \n",
      "...         ...     ...      ...         ...        ...    ...  \n",
      "17046        58      20       14       40000       1000      1  \n",
      "17047        58      42       32       60000       1000      1  \n",
      "17048        49      45       38       60000       1000      1  \n",
      "17049        51      42       37       60000       1000      1  \n",
      "17050        52      47       28       60000       1000      1  \n",
      "17051        63      32       20       50000       1000      1  \n",
      "17052        36      38       28       50000       1000      1  \n",
      "17053        57      32       21       40000       1000      1  \n",
      "17054        58      47       41       60000       1000      1  \n",
      "17055        49      53       42       70000       1000      1  \n",
      "17056        45      27       20       60000       5000      1  \n",
      "17057        60      32       26       50000       1000      1  \n",
      "17058        46      47       30       50000       1000      1  \n",
      "17059        50      51       31       60000       1000      1  \n",
      "17060        31      40       37       60000       1000      1  \n",
      "17061        42      51       31       60000       1000      1  \n",
      "17062        63      32       23       60000       1000      1  \n",
      "17063        50      32       21       60000       1000      1  \n",
      "17064        41      47       36       60000       1000      2  \n",
      "17065        68      31       19       40000       1000      1  \n",
      "17066        61      48       35       60000       2000      2  \n",
      "17067        48      40       33       60000       1000      1  \n",
      "17068        40      40       33       50000       1000      1  \n",
      "17069        42      28       24       40000       1000      1  \n",
      "17070        37      43       34       30000       1000      1  \n",
      "17071        50      26        6       50000       1000      1  \n",
      "17072        47      17       12           0       1000      1  \n",
      "17073        32      37       33       60000       1000      2  \n",
      "17074        46      51       25       60000       1000      1  \n",
      "17075        67      22       19       50000       1000      1  \n",
      "\n",
      "[17076 rows x 44 columns]\n"
     ]
    }
   ],
   "source": [
    "# Implement _update_clusters and _update_means\n",
    "\n",
    "df = pd.read_csv('fifa1.csv')\n",
    "fts = ['Interceptions', 'Long shots']\n",
    "\n",
    "def myKMeans(data, k, iterations):\n",
    "    means = _init_means(data, k)\n",
    "    clusters = _update_clusters(data, means)\n",
    "\n",
    "    for i in range(iterations):\n",
    "        means = _update_means(data, clusters,k)\n",
    "        clusters = _update_clusters(data, means)\n",
    "    return clusters\n",
    "\n",
    "\n",
    "def _init_means(data, k):\n",
    "    min_values = data.min()\n",
    "    max_values = data.max()\n",
    "    means = np.random.uniform(min_values, max_values, (k, data.shape[1]))\n",
    "    return means\n",
    "\n",
    "\n",
    "def _update_clusters(data, means):\n",
    "    distances = np.sqrt(((data.values - means[:, np.newaxis])**2).sum(axis=2))\n",
    "    cluster_nr = np.argmin(distances, axis=0)\n",
    "    return cluster_nr\n",
    "\n",
    "\n",
    "def _update_means(data, clusters,k):\n",
    "    new_means= np.array([data.values[clusters==a].mean(axis=0) for a in range(k)])          \n",
    "    return new_means\n",
    "\n",
    "clust = (myKMeans(df[fts],3,4))\n",
    "#df[\"Clust\"] = clust\n",
    "#print(df)"
   ]
  },
  {
   "cell_type": "code",
   "execution_count": null,
   "metadata": {
    "collapsed": true
   },
   "outputs": [],
   "source": [
    "data = pd.read_csv('fifa1.csv')\n",
    "fts = ['Interceptions', 'Long shots']"
   ]
  },
  {
   "cell_type": "markdown",
   "metadata": {},
   "source": [
    "Test your implementation by clustering the features 'Interceptions' and 'Long shots'. <br>\n",
    "Try different values for $k$ and visualize the results, using the provided function *visualize_clusters()*. Which $k$ seems to produce the best result? Also calculate the Silhouette Coefficient (http://scikit-learn.org/stable/modules/generated/sklearn.metrics.silhouette_score.html). Does it confirm your intuition?"
   ]
  },
  {
   "cell_type": "code",
   "execution_count": null,
   "metadata": {
    "collapsed": true
   },
   "outputs": [],
   "source": []
  },
  {
   "cell_type": "code",
   "execution_count": 95,
   "metadata": {},
   "outputs": [
    {
     "ename": "ValueError",
     "evalue": "The truth value of a Series is ambiguous. Use a.empty, a.bool(), a.item(), a.any() or a.all().",
     "output_type": "error",
     "traceback": [
      "\u001b[1;31m---------------------------------------------------------------------------\u001b[0m",
      "\u001b[1;31mValueError\u001b[0m                                Traceback (most recent call last)",
      "\u001b[1;32m<ipython-input-95-0ccbcc0b261b>\u001b[0m in \u001b[0;36m<module>\u001b[1;34m()\u001b[0m\n\u001b[0;32m      5\u001b[0m \u001b[0mplt\u001b[0m\u001b[1;33m.\u001b[0m\u001b[0mfigure\u001b[0m\u001b[1;33m(\u001b[0m\u001b[1;33m)\u001b[0m\u001b[1;33m\u001b[0m\u001b[0m\n\u001b[0;32m      6\u001b[0m \u001b[1;32mfor\u001b[0m \u001b[0mi\u001b[0m \u001b[1;32min\u001b[0m \u001b[0mrange\u001b[0m\u001b[1;33m(\u001b[0m\u001b[0mlen\u001b[0m\u001b[1;33m(\u001b[0m\u001b[0mdf\u001b[0m\u001b[1;33m)\u001b[0m\u001b[1;33m)\u001b[0m\u001b[1;33m:\u001b[0m\u001b[1;33m\u001b[0m\u001b[0m\n\u001b[1;32m----> 7\u001b[1;33m     \u001b[1;32mif\u001b[0m \u001b[0mdf\u001b[0m\u001b[1;33m[\u001b[0m\u001b[1;34m\"Cluster\"\u001b[0m\u001b[1;33m]\u001b[0m\u001b[1;33m==\u001b[0m\u001b[1;36m0\u001b[0m\u001b[1;33m:\u001b[0m\u001b[1;33m\u001b[0m\u001b[0m\n\u001b[0m\u001b[0;32m      8\u001b[0m         \u001b[0mplt\u001b[0m\u001b[1;33m.\u001b[0m\u001b[0mscatter\u001b[0m\u001b[1;33m(\u001b[0m\u001b[0mdf\u001b[0m\u001b[1;33m[\u001b[0m\u001b[1;34m'Interceptions'\u001b[0m\u001b[1;33m]\u001b[0m\u001b[1;33m,\u001b[0m\u001b[0mdf\u001b[0m\u001b[1;33m[\u001b[0m\u001b[1;34m'Long shots'\u001b[0m\u001b[1;33m]\u001b[0m\u001b[1;33m,\u001b[0m \u001b[0mcolor\u001b[0m \u001b[1;33m=\u001b[0m\u001b[1;34m\"blue\"\u001b[0m\u001b[1;33m,\u001b[0m \u001b[0malpha\u001b[0m \u001b[1;33m=\u001b[0m \u001b[1;36m0.2\u001b[0m\u001b[1;33m)\u001b[0m\u001b[1;33m\u001b[0m\u001b[0m\n\u001b[0;32m      9\u001b[0m     \u001b[1;32mif\u001b[0m \u001b[0mdf\u001b[0m\u001b[1;33m[\u001b[0m\u001b[1;34m\"Cluster\"\u001b[0m\u001b[1;33m]\u001b[0m\u001b[1;33m==\u001b[0m\u001b[1;36m1\u001b[0m\u001b[1;33m:\u001b[0m\u001b[1;33m\u001b[0m\u001b[0m\n",
      "\u001b[1;32mC:\\ProgramData\\Anaconda3\\lib\\site-packages\\pandas\\core\\generic.py\u001b[0m in \u001b[0;36m__nonzero__\u001b[1;34m(self)\u001b[0m\n\u001b[0;32m    953\u001b[0m         raise ValueError(\"The truth value of a {0} is ambiguous. \"\n\u001b[0;32m    954\u001b[0m                          \u001b[1;34m\"Use a.empty, a.bool(), a.item(), a.any() or a.all().\"\u001b[0m\u001b[1;33m\u001b[0m\u001b[0m\n\u001b[1;32m--> 955\u001b[1;33m                          .format(self.__class__.__name__))\n\u001b[0m\u001b[0;32m    956\u001b[0m \u001b[1;33m\u001b[0m\u001b[0m\n\u001b[0;32m    957\u001b[0m     \u001b[0m__bool__\u001b[0m \u001b[1;33m=\u001b[0m \u001b[0m__nonzero__\u001b[0m\u001b[1;33m\u001b[0m\u001b[0m\n",
      "\u001b[1;31mValueError\u001b[0m: The truth value of a Series is ambiguous. Use a.empty, a.bool(), a.item(), a.any() or a.all()."
     ]
    }
   ],
   "source": [
    "# Use your k-Means implementation and visualize the results. Print the silhouette score.\n",
    "clust = (myKMeans(df[fts],3,4))\n",
    "df[\"Cluster\"] = clust\n",
    "\n"
   ]
  },
  {
   "cell_type": "markdown",
   "metadata": {},
   "source": [
    "## 2 Different initializations of k-Means\n",
    "\n",
    "Take a look at the influence of different initializations of the k-Means algorithm. For this, compare random initialization with the '*k-means++*' initialization (https://en.wikipedia.org/wiki/K-means%2B%2B). Use the sklearn implementation of k-Means <br>(http://scikit-learn.org/stable/modules/generated/sklearn.cluster.KMeans.html) and run the algorithm with: \n",
    "- 1, 2, 3, 4, 5, 10, 20 as the maximum number of iterations (*max_iter*)\n",
    "- 10 initializations each (*n_init*)\n",
    "- and a convergence tolerance of 0 (*tol*).\n",
    "\n",
    "For both initialization methods, plot the final value of the objective function (*inertia_*) against the number of iterations in line plots of different colors.\n",
    "\n",
    "What do you observe?"
   ]
  },
  {
   "cell_type": "code",
   "execution_count": null,
   "metadata": {
    "collapsed": true
   },
   "outputs": [],
   "source": [
    "# Use the sklearn implementation of k-Means and plot the objective function for both initialization methods.\n"
   ]
  },
  {
   "cell_type": "markdown",
   "metadata": {},
   "source": [
    "## 3 Density based clustering: DBSCAN\n",
    "\n",
    "Finally we compare the results of k-Means, as a distance based clustering with the results of DBSCAN as a density based clustering method. Again we use the features 'Interceptions' and 'Long shots'. \n",
    "\n",
    "To do so, estimate a suitable value for $\\epsilon$.\n",
    "Set *MinPts=30* (necessary because the data is relativaly dense and low dimensional) and use a k-distance plot for estimating a proper range for $\\epsilon$. For creating this plot, we propose the following steps:\n",
    "- use the *kneighbors_graph()* function of sklearn for getting the distance of each point to its $k$ (*MinPts*) neighbors <br>\n",
    "(http://scikit-learn.org/stable/modules/generated/sklearn.neighbors.kneighbors_graph.html)\n",
    "- convert the result to a 2d array (*.toarray()*)\n",
    "- get the maximum of each row\n",
    "- sort these values and create the plot"
   ]
  },
  {
   "cell_type": "code",
   "execution_count": null,
   "metadata": {
    "collapsed": true
   },
   "outputs": [],
   "source": [
    "# Follow the suggested steps to plot a k-distance plot. "
   ]
  },
  {
   "cell_type": "markdown",
   "metadata": {},
   "source": [
    "Use the estimated parameter range for DBSCAN (http://scikit-learn.org/stable/modules/generated/sklearn.cluster.DBSCAN.html). Again, visualize the result by using *visualize_clusters()*. Adjust the parameters to get better results and create one plot with and one without the detected noise (it has cluster label < 0)."
   ]
  },
  {
   "cell_type": "code",
   "execution_count": null,
   "metadata": {
    "collapsed": true
   },
   "outputs": [],
   "source": [
    "# Run DBSCAN"
   ]
  },
  {
   "cell_type": "code",
   "execution_count": null,
   "metadata": {
    "collapsed": true
   },
   "outputs": [],
   "source": [
    "# Visualization with noise"
   ]
  },
  {
   "cell_type": "code",
   "execution_count": null,
   "metadata": {
    "collapsed": true
   },
   "outputs": [],
   "source": [
    "# Visualization without noise"
   ]
  },
  {
   "cell_type": "markdown",
   "metadata": {},
   "source": [
    "----"
   ]
  },
  {
   "cell_type": "markdown",
   "metadata": {},
   "source": [
    "Afterwards: *Nicely done!* :)\n",
    "\n",
    "And (if you want) an extra: Can you find other clusters in the data? Which dimensions could be used?"
   ]
  }
 ],
 "metadata": {
  "kernelspec": {
   "display_name": "Python 3",
   "language": "python",
   "name": "python3"
  },
  "language_info": {
   "codemirror_mode": {
    "name": "ipython",
    "version": 3
   },
   "file_extension": ".py",
   "mimetype": "text/x-python",
   "name": "python",
   "nbconvert_exporter": "python",
   "pygments_lexer": "ipython3",
   "version": "3.6.2"
  }
 },
 "nbformat": 4,
 "nbformat_minor": 2
}
