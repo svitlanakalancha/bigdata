{
 "cells": [
  {
   "cell_type": "code",
   "execution_count": null,
   "metadata": {},
   "outputs": [],
   "source": [
    "%load_ext autoreload\n",
    "%autoreload 2"
   ]
  },
  {
   "cell_type": "code",
   "execution_count": null,
   "metadata": {},
   "outputs": [],
   "source": [
    "import numpy as np\n",
    "import pandas as pd\n",
    "import matplotlib.pyplot as plt\n",
    "\n",
    "from src.visualization import visualize_clusters"
   ]
  },
  {
   "cell_type": "markdown",
   "metadata": {},
   "source": [
    "In this week's exercise we will be using the clustering methods k-Means and DBSCAN. First, the simplicity of implementing k-Means is shown, then different initialization techniques are compared and finally DBSCAN is applied on the data."
   ]
  },
  {
   "cell_type": "markdown",
   "metadata": {},
   "source": [
    "## 1 The k-Means algorithm\n",
    "\n",
    "To get a grip on k-Means, you might implement two parts of the algorithm:\n",
    "\n",
    "**_update_clusters**\n",
    "- As parameters, the function gets a DataFrame ($n \\times d$) containing the dataset and a DataFrame/matrix ($k \\times d$) containing the $k$ means\n",
    "- It returns an array of length $n$, containing a cluster label for each sample (row) of the data set \n",
    "\n",
    "**_update_means**\n",
    "- This gets the DataFrame ($n \\times d$) containing the dataset as well as an array of length $n$ containing the cluster label of each sample as parameters\n",
    "- It returns a DataFrame/matrix of size $k \\times d$ containing $k$ updated means \n",
    "\n",
    "<br>\n",
    "Some Hints:\n",
    "- https://docs.scipy.org/doc/scipy-0.19.0/reference/generated/scipy.spatial.distance.cdist.html\n",
    "- https://docs.scipy.org/doc/numpy-1.13.0/reference/generated/numpy.argmin.html\n",
    "- https://pandas.pydata.org/pandas-docs/stable/generated/pandas.DataFrame.groupby.html\n",
    "\n",
    "Feel free to add import statements! "
   ]
  },
  {
   "cell_type": "code",
   "execution_count": null,
   "metadata": {},
   "outputs": [],
   "source": [
    "# Implement _update_clusters and _update_means\n",
    "\n",
    "def myKMeans(data, k, iterations):\n",
    "    means = _init_means(data, k)\n",
    "    clusters = _update_clusters(data, means)\n",
    "\n",
    "    for i in range(iterations):\n",
    "        means = _update_means(data, clusters)\n",
    "        clusters = _update_clusters(data, means)\n",
    "\n",
    "    return clusters\n",
    "\n",
    "\n",
    "def _init_means(data, k):\n",
    "    min_values = data.min()\n",
    "    max_values = data.max()\n",
    "    means = np.random.uniform(min_values, max_values, (k, data.shape[1]))\n",
    "    return means\n",
    "\n",
    "\n",
    "def _update_clusters(data, means):\n",
    "    return 0\n",
    "\n",
    "\n",
    "def _update_means(data, clusters):\n",
    "    return 0"
   ]
  },
  {
   "cell_type": "code",
   "execution_count": null,
   "metadata": {},
   "outputs": [],
   "source": [
    "data = pd.read_csv('data/fifa1.csv')\n",
    "fts = ['Interceptions', 'Long shots']"
   ]
  },
  {
   "cell_type": "markdown",
   "metadata": {},
   "source": [
    "Test your implementation by clustering the features 'Interceptions' and 'Long shots'. <br>\n",
    "Try different values for $k$ and visualize the results, using the provided function *visualize_clusters()*. Which $k$ seems to produce the best result? Also calculate the Silhouette Coefficient (http://scikit-learn.org/stable/modules/generated/sklearn.metrics.silhouette_score.html). Does it confirm your intuition?"
   ]
  },
  {
   "cell_type": "code",
   "execution_count": null,
   "metadata": {},
   "outputs": [],
   "source": [
    "# Use your k-Means implementation and visualize the results. Print the silhouette score."
   ]
  },
  {
   "cell_type": "markdown",
   "metadata": {},
   "source": [
    "## 2 Different initializations of k-Means\n",
    "\n",
    "Take a look at the influence of different initializations of the k-Means algorithm. For this, compare random initialization with the '*k-means++*' initialization (https://en.wikipedia.org/wiki/K-means%2B%2B). Use the sklearn implementation of k-Means <br>(http://scikit-learn.org/stable/modules/generated/sklearn.cluster.KMeans.html) and run the algorithm with: \n",
    "- 1, 2, 3, 4, 5, 10, 20 as the maximum number of iterations (*max_iter*)\n",
    "- 10 initializations each (*n_init*)\n",
    "- and a convergence tolerance of 0 (*tol*).\n",
    "\n",
    "For both initialization methods, plot the final value of the objective function (*inertia_*) against the number of iterations in line plots of different colors.\n",
    "\n",
    "What do you observe?"
   ]
  },
  {
   "cell_type": "code",
   "execution_count": null,
   "metadata": {},
   "outputs": [],
   "source": [
    "# Use the sklearn implementation of k-Means and plot the objective function for both initialization methods.\n",
    "\n",
    "iterations = [1, 2, 3, 4, 5, 10, 20]\n",
    "\n",
    "objective = pd.Series(data=0, index=iterations)\n",
    "objective_pp = pd.Series(data=0, index=iterations)\n",
    "\n",
    "for i in iterations:\n",
    "    # …\n",
    "    \n",
    "plt.plot(objective.index, objective, 'b-')\n",
    "plt.plot(objective_pp.index, objective_pp, 'r-')\n",
    "plt.title('objective functions for different initializations')\n",
    "plt.xlabel('iterations')\n",
    "plt.ylabel('objective')\n",
    "plt.show()"
   ]
  },
  {
   "cell_type": "markdown",
   "metadata": {},
   "source": [
    "## 3 Density based clustering: DBSCAN\n",
    "\n",
    "Finally we compare the results of k-Means, as a distance based clustering with the results of DBSCAN as a density based clustering method. Again we use the features 'Interceptions' and 'Long shots'. \n",
    "\n",
    "To do so, estimate a suitable value for $\\epsilon$.\n",
    "Set *MinPts=30* (necessary because the data is relativaly dense and low dimensional) and use a k-distance plot for estimating a proper range for $\\epsilon$. For creating this plot, we propose the following steps:\n",
    "- use the *kneighbors_graph()* function of sklearn for getting the distance of each point to its $k$ (*MinPts*) neighbors <br>\n",
    "(http://scikit-learn.org/stable/modules/generated/sklearn.neighbors.kneighbors_graph.html)\n",
    "- convert the result to a 2d array (*.toarray()*)\n",
    "- get the maximum of each row\n",
    "- sort these values and create the plot"
   ]
  },
  {
   "cell_type": "code",
   "execution_count": null,
   "metadata": {},
   "outputs": [],
   "source": [
    "# Follow the suggested steps to plot a k-distance plot. "
   ]
  },
  {
   "cell_type": "markdown",
   "metadata": {},
   "source": [
    "Use the estimated parameter range for DBSCAN (http://scikit-learn.org/stable/modules/generated/sklearn.cluster.DBSCAN.html). Again, visualize the result by using *visualize_clusters()*. Adjust the parameters to get better results and create one plot with and one without the detected noise (it has cluster label < 0)."
   ]
  },
  {
   "cell_type": "code",
   "execution_count": null,
   "metadata": {},
   "outputs": [],
   "source": [
    "# Run DBSCAN"
   ]
  },
  {
   "cell_type": "code",
   "execution_count": null,
   "metadata": {},
   "outputs": [],
   "source": [
    "# Visualization with noise"
   ]
  },
  {
   "cell_type": "code",
   "execution_count": null,
   "metadata": {},
   "outputs": [],
   "source": [
    "# Visualization without noise"
   ]
  },
  {
   "cell_type": "markdown",
   "metadata": {},
   "source": [
    "----"
   ]
  },
  {
   "cell_type": "markdown",
   "metadata": {},
   "source": [
    "Afterwards: *Nicely done!* :)\n",
    "\n",
    "And (if you want) an extra: Can you find other clusters in the data? Which dimensions could be used?"
   ]
  }
 ],
 "metadata": {
  "kernelspec": {
   "display_name": "Python 3",
   "language": "python",
   "name": "python3"
  },
  "language_info": {
   "codemirror_mode": {
    "name": "ipython",
    "version": 3
   },
   "file_extension": ".py",
   "mimetype": "text/x-python",
   "name": "python",
   "nbconvert_exporter": "python",
   "pygments_lexer": "ipython3",
   "version": "3.6.3"
  }
 },
 "nbformat": 4,
 "nbformat_minor": 2
}
