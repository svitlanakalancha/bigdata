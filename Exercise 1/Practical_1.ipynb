{
 "cells": [
  {
   "cell_type": "markdown",
   "metadata": {},
   "source": [
    "## Exercise 1: basic statistics and visualisation\n",
    "The datasets we will be using throughout the practical exercises of this course are subsets of the FIFA 18 Complete Player Dataset from kaggle.com, which is extracted from the latest edition of FIFA, a football simulation game. In this dataset the player's attributes like personal data (e.g. Nationality, Club, Age, Value, …) and performances (e.g. Agression, Agility, Overall, Potential, …) of in total .. players are collected.\n",
    "\n",
    "For the individuals tasks we will give you preprocessed data. This time, 42 features for you to discover."
   ]
  },
  {
   "cell_type": "code",
   "execution_count": 3,
   "metadata": {
    "collapsed": true
   },
   "outputs": [],
   "source": [
    "import numpy as np\n",
    "import pandas as pd\n",
    "import matplotlib.pyplot as plt"
   ]
  },
  {
   "cell_type": "markdown",
   "metadata": {},
   "source": [
    "At first, load the 'data/fifa1.csv' as DataFrame, in order to work with it. To do so, use pandas read_csv method:\n",
    "\n",
    "https://pandas.pydata.org/pandas-docs/stable/generated/pandas.read_csv.html\n",
    "\n",
    "Note: you only have to specify necessary parameters."
   ]
  },
  {
   "cell_type": "code",
   "execution_count": 4,
   "metadata": {
    "collapsed": true
   },
   "outputs": [],
   "source": [
    "data = pd.read_csv(\"fifa1.csv\")"
   ]
  },
  {
   "cell_type": "markdown",
   "metadata": {},
   "source": [
    "At the beginning, get a first insight into the structure of the data. Verify that the shape of the dataset is (17076, 43), what means it contains 43 features (columns) and 17076 samples (rows). In addition print the data types of the columns and the top 5 rows of the DataFrame. \n",
    "\n",
    "https://pandas.pydata.org/pandas-docs/stable/generated/pandas.DataFrame.html"
   ]
  },
  {
   "cell_type": "code",
   "execution_count": 16,
   "metadata": {},
   "outputs": [
    {
     "name": "stdout",
     "output_type": "stream",
     "text": [
      "                Name  Age Nationality  Overall  Potential  \\\n",
      "0  Cristiano Ronaldo   32    Portugal       94         94   \n",
      "1           L. Messi   30   Argentina       93         93   \n",
      "2             Neymar   25      Brazil       92         94   \n",
      "3          L. Suárez   30     Uruguay       92         92   \n",
      "4           M. Neuer   31     Germany       92         92   \n",
      "\n",
      "                  Club  Special  Acceleration  Aggression  Agility    ...      \\\n",
      "0       Real Madrid CF     2228            89          63       89    ...       \n",
      "1         FC Barcelona     2154            92          48       90    ...       \n",
      "2  Paris Saint-Germain     2100            94          56       96    ...       \n",
      "3         FC Barcelona     2291            88          78       86    ...       \n",
      "4     FC Bayern Munich     1493            58          29       52    ...       \n",
      "\n",
      "   Shot power  Sliding tackle  Sprint speed  Stamina  Standing tackle  \\\n",
      "0          94              23            91       92               31   \n",
      "1          85              26            87       73               28   \n",
      "2          80              33            90       78               24   \n",
      "3          87              38            77       89               45   \n",
      "4          25              11            61       44               10   \n",
      "\n",
      "   Strength  Vision  Volleys  Value Euro  Wage Euro  \n",
      "0        80      85       88    95500000     565000  \n",
      "1        59      90       85   105000000     565000  \n",
      "2        53      80       83   123000000     280000  \n",
      "3        80      84       88    97000000     510000  \n",
      "4        83      70       11    61000000     230000  \n",
      "\n",
      "[5 rows x 43 columns]\n"
     ]
    },
    {
     "data": {
      "text/plain": [
       "(17076, 43)"
      ]
     },
     "execution_count": 16,
     "metadata": {},
     "output_type": "execute_result"
    }
   ],
   "source": [
    "print(data.head(n=5))\n",
    "data.columns\n",
    "data.shape"
   ]
  },
  {
   "cell_type": "markdown",
   "metadata": {},
   "source": [
    "Now that you have basic information about the dataset. Time to have a closer look at statistical properties of different features (columns). For this, implement 3 functions, each of which gets the column of a DataFrame as argument.\n",
    "\n",
    "The first function *my_mean* should calculate the mean of a features (columns) sample distribution, defined as $mean(X) = \\frac{1}{|X|}\\sum_{x \\in X}x$.\n",
    "\n",
    "The second function *my_var* should calculate the variance of a features sample distribution, defined as the expected squared difference of the samples and their mean $var(X) = \\frac{1}{|X|} \\sum_{x \\in X} (x - mean(X))^2$.\n",
    "\n",
    "Finally calculate the median of a feature in *my_median*, which is the central value in an ordered version of the samples. So if $X = (x_1, x_2, ..., x_n)$ are the sorted values of a feature, it is defined as $median(X) = \n",
    "\\begin{cases} \n",
    "x_{\\frac{n+1}{2}} \\text{ if $n$ is odd} \\\\\n",
    "\\frac{1}{2}(x_{\\frac{n}{2}} + x_{\\frac{n}{2}+1}) \\text{ if $n$ is even}\n",
    "\\end{cases}\n",
    "$.\n",
    "\n",
    "For sorting you should use the 'sort_values' method: https://pandas.pydata.org/pandas-docs/stable/generated/pandas.Series.sort_values.html\n",
    "\n",
    "In addition, you have to reset the indices after sorting, using 'reset_index': http://pandas.pydata.org/pandas-docs/version/0.20.3/generated/pandas.DataFrame.reset_index.html\n",
    "\n",
    "**Hint:** be aware of the 0-based indexing of pandas/numpy datatypes."
   ]
  },
  {
   "cell_type": "code",
   "execution_count": 35,
   "metadata": {},
   "outputs": [
    {
     "name": "stdout",
     "output_type": "stream",
     "text": [
      "25.0\n"
     ]
    }
   ],
   "source": [
    "def my_mean(column):\n",
    "    mean = 0 \n",
    "    for c in column:\n",
    "        mean = mean + c\n",
    "    mean = mean/len(column)    \n",
    "    return mean\n",
    "\n",
    "def my_var(column):\n",
    "    mean = my_mean(column)\n",
    "    sumColumn = 0\n",
    "    for c in column:\n",
    "        c = (c - mean)**2\n",
    "        sumColumn = sumColumn + c \n",
    "    var = sumColumn/len(column)\n",
    "    return var\n",
    "\n",
    "def my_median(column):\n",
    "    column = np.sort(column)\n",
    "    length = len(column)\n",
    "    if length % 2 == 0:\n",
    "        median = (column[int((length-1)/2)] + column[int((length-1)/2 + 1)])*0.5\n",
    "    else:\n",
    "        median = column[int((length-1)/2)]\n",
    "    data.reset_index()\n",
    "    return median\n",
    "\n",
    "print(my_median(data.Age))\n"
   ]
  },
  {
   "cell_type": "markdown",
   "metadata": {},
   "source": [
    "Use your function to compute mean, variance and median for the numerical features \n",
    "- Ball control\n",
    "- Wage Euro\n",
    "- Age\n",
    "- Acceleration\n",
    "\n",
    "Calculate the statistical measures using your own function and the pre-implemented version of numpy/pandas. Print for each of the features the name and the results."
   ]
  },
  {
   "cell_type": "code",
   "execution_count": 32,
   "metadata": {},
   "outputs": [
    {
     "name": "stdout",
     "output_type": "stream",
     "text": [
      "My Mean 58.0630709768 Numpy mean 58.063070976809556\n",
      "My Variance 281.917959274 Numpy variance 281.9179592737153\n",
      "My Median 63.0 Numpy median 63.0\n",
      "My Mean 11615.2494729 Numpy mean 11615.249472944484\n",
      "My Variance 541926457.545 Numpy variance 541926457.5449996\n",
      "My Median 4000.0 Numpy median 4000.0\n",
      "My Mean 25.1143710471 Numpy mean 25.114371047083626\n",
      "My Variance 21.3282755531 Numpy variance 21.328275553116313\n",
      "My Median 25.0 Numpy median 25.0\n",
      "My Mean 64.4823143593 Numpy mean 64.48231435933474\n",
      "My Variance 223.40124496 Numpy variance 223.40124495997776\n",
      "My Median 67.0 Numpy median 67.0\n"
     ]
    }
   ],
   "source": [
    "features = ['Ball control', 'Wage Euro', 'Age', 'Acceleration']\n",
    "\n",
    "for ft in features:\n",
    "    column = data.get(ft)\n",
    "    print(\"My Mean \" + str(my_mean(column)) + \" Numpy mean \" + str(np.mean(column)))\n",
    "    print(\"My Variance \" + str(my_var(column)) + \" Numpy variance \" + str(np.var(column)))\n",
    "    print(\"My Median \" + str(my_median(column)) + \" Numpy median \" + str(np.median(column)))"
   ]
  },
  {
   "cell_type": "markdown",
   "metadata": {},
   "source": [
    "Next we want analyse some statistical dependencies. As an example calculate the following probabilities, based on the dataset:\n",
    "- $p_1 = P(Wage~Euro > 100000)$\n",
    "- $p_2 = P(Wage~Euro > 100000,~ Value~Euro > 10000000)$\n",
    "- $p_3 = P(Wage~Euro > 100000~ |~ Value~Euro > 10000000)$\n",
    "\n",
    "To do this, the following parts of the documentation might be useful:\n",
    "\n",
    "https://pandas.pydata.org/pandas-docs/stable/indexing.html\n",
    "\n",
    "http://pandas.pydata.org/pandas-docs/stable/computation.html\n",
    "\n",
    "https://docs.scipy.org/doc/numpy-1.13.0/reference/routines.math.html"
   ]
  },
  {
   "cell_type": "code",
   "execution_count": 45,
   "metadata": {},
   "outputs": [
    {
     "name": "stdout",
     "output_type": "stream",
     "text": [
      "0.011770906535488405\n",
      "0.04872335441555399\n",
      "0.0\n"
     ]
    }
   ],
   "source": [
    "column1 = data.get(\"Wage Euro\")\n",
    "column2 = data.get(\"Value Euro\")\n",
    "global_length = len(column)\n",
    "\n",
    "#Wage Euro only = p1\n",
    "p1 = []\n",
    "for c in column1:\n",
    "    if c > 100000: \n",
    "        p1.append(c)\n",
    "p1_length = len(p1)\n",
    "p1_prob = p1_length/global_length\n",
    "print(p1_prob)\n",
    "\n",
    "#Value Euro only = helper\n",
    "p2 = []\n",
    "for c in column2:\n",
    "    if c > 10000000: \n",
    "        p2.append(c)\n",
    "p2_length = len(p2)\n",
    "p2_prob = p2_length/global_length\n",
    "print(p2_prob)\n",
    "\n",
    "#Wage + Value = p2\n",
    "for l in range(0,global_length-1):\n",
    "    c1=column1[l]\n",
    "    c2=column2[l]\n",
    "    p = 0\n",
    "    if c1 > 100000 and c2 > 10000000:\n",
    "        p = p + 1\n",
    "p2 = p/global_length\n",
    "print(p2)"
   ]
  },
  {
   "cell_type": "markdown",
   "metadata": {},
   "source": [
    "Finally analyse the dataset visually by using matplotlib. Create histograms of:\n",
    "- Wage Euro using 100 bins\n",
    "- Age using 20 bins\n",
    "- Stamina using 30 bins\n",
    "\n",
    "See also:\n",
    "\n",
    "https://matplotlib.org/tutorials/introductory/pyplot.html#sphx-glr-tutorials-introductory-pyplot-py\n",
    "\n",
    "https://matplotlib.org/devdocs/api/_as_gen/matplotlib.pyplot.hist.html\n",
    "\n",
    "Do not forget to add a title to each plot and to name the axes."
   ]
  },
  {
   "cell_type": "code",
   "execution_count": 54,
   "metadata": {},
   "outputs": [
    {
     "data": {
      "image/png": "[encoded data removed]",
      "text/plain": [
       "<matplotlib.figure.Figure at 0x1133634e0>"
      ]
     },
     "metadata": {},
     "output_type": "display_data"
    },
    {
     "data": {
      "image/png": "[encoded data removed]",
      "text/plain": [
       "<matplotlib.figure.Figure at 0x10e9aa5f8>"
      ]
     },
     "metadata": {},
     "output_type": "display_data"
    },
    {
     "data": {
      "image/png": "[encoded data removed]",
      "text/plain": [
       "<matplotlib.figure.Figure at 0x10a178f98>"
      ]
     },
     "metadata": {},
     "output_type": "display_data"
    }
   ],
   "source": [
    "plt.figure()\n",
    "plt.hist(data.get(\"Wage Euro\"), 100)\n",
    "plt.title(\"Salary in Euro\")\n",
    "plt.xlabel(\"EUR\")\n",
    "plt.ylabel(\"Players amount\")\n",
    "plt.show()\n",
    "\n",
    "plt.figure()\n",
    "plt.hist(data.get(\"Age\"), 20)\n",
    "plt.title(\"Age distribution\")\n",
    "plt.xlabel(\"Age\")\n",
    "plt.ylabel(\"Players amount\")\n",
    "plt.show()\n",
    "\n",
    "plt.figure()\n",
    "plt.hist(data.get(\"Stamina\"), 30)\n",
    "plt.title(\"Endurance of players\")\n",
    "plt.xlabel(\"Minutes\")\n",
    "plt.ylabel(\"Players amount\")\n",
    "plt.show()"
   ]
  },
  {
   "cell_type": "code",
   "execution_count": null,
   "metadata": {
    "collapsed": true
   },
   "outputs": [],
   "source": []
  }
 ],
 "metadata": {
  "kernelspec": {
   "display_name": "Python 3",
   "language": "python",
   "name": "python3"
  },
  "language_info": {
   "codemirror_mode": {
    "name": "ipython",
    "version": 3
   },
   "file_extension": ".py",
   "mimetype": "text/x-python",
   "name": "python",
   "nbconvert_exporter": "python",
   "pygments_lexer": "ipython3",
   "version": "3.6.2"
  }
 },
 "nbformat": 4,
 "nbformat_minor": 2
}
